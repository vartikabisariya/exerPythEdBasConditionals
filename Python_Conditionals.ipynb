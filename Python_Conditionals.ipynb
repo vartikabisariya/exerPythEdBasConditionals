{
 "cells": [
  {
   "cell_type": "markdown",
   "id": "c2dce170",
   "metadata": {
    "deletable": false,
    "editable": false,
    "nbgrader": {
     "cell_type": "markdown",
     "checksum": "2536ff2631b611f11be89f78d622269e",
     "grade": false,
     "grade_id": "cell-f7760d9a4d288069",
     "locked": true,
     "schema_version": 3,
     "solution": false,
     "task": false
    }
   },
   "source": [
    "### Instructions\n",
    "\n",
    "* Sign up for the free course on Educative, __Learn Python 3 From Scratch__\n",
    "* https://www.educative.io/courses/learn-python-3-from-scratch\n",
    "* Complete the programming exercises below as you go through the course.\n",
    "* Delete or comment out the line of code in each cell which says `raise NotImplementedError()` and replace it with your own."
   ]
  },
  {
   "cell_type": "markdown",
   "id": "1df81981",
   "metadata": {
    "deletable": false,
    "editable": false,
    "nbgrader": {
     "cell_type": "markdown",
     "checksum": "9e60b07469932358203cf57ccce34c20",
     "grade": false,
     "grade_id": "cell-17b2b7d59c56f401",
     "locked": true,
     "schema_version": 3,
     "solution": false,
     "task": false
    }
   },
   "source": [
    "# Educative - Conditional Statements\n",
    "\n",
    "https://www.educative.io/courses/learn-python-3-from-scratch/qA5oq65YJv7"
   ]
  },
  {
   "cell_type": "markdown",
   "id": "0387c9c8",
   "metadata": {
    "deletable": false,
    "editable": false,
    "nbgrader": {
     "cell_type": "markdown",
     "checksum": "951435168de9381891463aed1c395453",
     "grade": false,
     "grade_id": "cell-c56620a620b94083",
     "locked": true,
     "schema_version": 3,
     "solution": false,
     "task": false
    }
   },
   "source": [
    "Write code in the cell below.\n",
    "\n",
    "* Create a variable called `num` and assign it the value of 5.\n",
    "* Write an if statement to test if the value of `num` equals 5. If it does, print `The number is equal to 5`\n",
    "* Write an if statement to test if the value of `num` is greater than 5. If it is, print `The number is greater than 5`"
   ]
  },
  {
   "cell_type": "code",
   "execution_count": 5,
   "id": "43cf2905",
   "metadata": {
    "deletable": false,
    "nbgrader": {
     "cell_type": "code",
     "checksum": "169e60c921ab337bf1afb100de5ff3ee",
     "grade": true,
     "grade_id": "cell-daaec4581031246d",
     "locked": false,
     "points": 1,
     "schema_version": 3,
     "solution": true,
     "task": false
    }
   },
   "outputs": [
    {
     "name": "stdout",
     "output_type": "stream",
     "text": [
      "The number is equal to 5\n"
     ]
    }
   ],
   "source": [
    "\n",
    "# YOUR CODE HERE\n",
    "num = 5\n",
    "if num == 5:\n",
    "    print (\"The number is equal to 5\")\n",
    "if num > 5:\n",
    "    print (\"The number is greater than 5\")"
   ]
  },
  {
   "cell_type": "markdown",
   "id": "130485f8",
   "metadata": {
    "deletable": false,
    "editable": false,
    "nbgrader": {
     "cell_type": "markdown",
     "checksum": "8fc326c8bd445e89f878cad2ddf8e2c6",
     "grade": false,
     "grade_id": "cell-bc8858ee32566188",
     "locked": true,
     "schema_version": 3,
     "solution": false,
     "task": false
    }
   },
   "source": [
    "Write code in the cell below.\n",
    "\n",
    "* Create a variable called `num` and assign it a value of 12.\n",
    "* Print the phrase `The number is a multiple of 2, 3, and 4` if `num` is a multiple of 2, 3, and 4.\n",
    "* Print the phrase `The number is a multiple of 5 and/or 6` if `num` is a multiple of 5 or 6."
   ]
  },
  {
   "cell_type": "code",
   "execution_count": 6,
   "id": "f742cfc0",
   "metadata": {
    "deletable": false,
    "nbgrader": {
     "cell_type": "code",
     "checksum": "42484bbd3cbbcdd9b10a3141d8965889",
     "grade": true,
     "grade_id": "cell-22d74c7bea16cc80",
     "locked": false,
     "points": 1,
     "schema_version": 3,
     "solution": true,
     "task": false
    }
   },
   "outputs": [
    {
     "name": "stdout",
     "output_type": "stream",
     "text": [
      "The number is a multiple of 2, 3, and 4\n",
      "The number is a multiple of 5 and/or 6\n"
     ]
    }
   ],
   "source": [
    "\n",
    "# YOUR CODE HERE\n",
    "num = 12\n",
    "if num % 2 == 0 and num % 3 == 0 and num % 4 == 0:\n",
    "    # Only works when num is a multiple of 2, 3, and 4\n",
    "    print(\"The number is a multiple of 2, 3, and 4\")\n",
    "    \n",
    "if (num % 5 == 0 or num % 6 == 0):\n",
    "    # Only works when num is either a multiple of 5 or 6\n",
    "    print(\"The number is a multiple of 5 and/or 6\")    "
   ]
  },
  {
   "cell_type": "markdown",
   "id": "368fe777",
   "metadata": {
    "deletable": false,
    "editable": false,
    "nbgrader": {
     "cell_type": "markdown",
     "checksum": "cf3c19f2578e819a54487aea8458244a",
     "grade": false,
     "grade_id": "cell-63e48df0bbbb9acd",
     "locked": true,
     "schema_version": 3,
     "solution": false,
     "task": false
    }
   },
   "source": [
    "Write code in the cell below. Create an example of nested if statements."
   ]
  },
  {
   "cell_type": "code",
   "execution_count": 7,
   "id": "9d12d088",
   "metadata": {
    "deletable": false,
    "nbgrader": {
     "cell_type": "code",
     "checksum": "ebc2b3a191d7682bd3e29ab9d1466d7a",
     "grade": true,
     "grade_id": "cell-9f20bc33d519a5bc",
     "locked": false,
     "points": 1,
     "schema_version": 3,
     "solution": true,
     "task": false
    }
   },
   "outputs": [
    {
     "name": "stdout",
     "output_type": "stream",
     "text": [
      "The number is in the 60-70 range\n"
     ]
    }
   ],
   "source": [
    "\n",
    "# YOUR CODE HERE\n",
    "num = 69.7\n",
    "\n",
    "if num >= 0 and num <= 100:\n",
    "    if num >= 50 and num <= 75:\n",
    "        if num >= 60 and num <= 70:\n",
    "            print(\"The number is in the 60-70 range\")"
   ]
  },
  {
   "cell_type": "markdown",
   "id": "c962a3c7",
   "metadata": {
    "deletable": false,
    "editable": false,
    "nbgrader": {
     "cell_type": "markdown",
     "checksum": "3635c9812a6ea610e6b3003df0428c53",
     "grade": false,
     "grade_id": "cell-ba7725e0a8947dfe",
     "locked": true,
     "schema_version": 3,
     "solution": false,
     "task": false
    }
   },
   "source": [
    "Write code in the cell below.\n",
    "\n",
    "* Create a variable called `num` and assign it a value of 10.\n",
    "* If `num` is greater than 5, assign `num` the value of 20 and create a new variable called `new_num` which has the value of 5 times `num`.\n",
    "* Print the values of `num` and `new_num` on separate lines."
   ]
  },
  {
   "cell_type": "code",
   "execution_count": 8,
   "id": "9a3d5b23",
   "metadata": {
    "deletable": false,
    "nbgrader": {
     "cell_type": "code",
     "checksum": "b3016b814c8a746f5be65a5d5f652f1a",
     "grade": true,
     "grade_id": "cell-8e4cfac4dfc2c6ee",
     "locked": false,
     "points": 1,
     "schema_version": 3,
     "solution": true,
     "task": false
    }
   },
   "outputs": [
    {
     "name": "stdout",
     "output_type": "stream",
     "text": [
      "20\n",
      "100\n"
     ]
    }
   ],
   "source": [
    "\n",
    "# YOUR CODE HERE\n",
    "num = 10\n",
    "if num > 5:\n",
    "    num = 20  # Assigning a new value to num\n",
    "    new_num = num * 5  # Creating a new value called newNum\n",
    "\n",
    "# The if condition ends, but the changes made inside it remain\n",
    "print(num)\n",
    "print(new_num)\n"
   ]
  },
  {
   "cell_type": "markdown",
   "id": "ef06679e",
   "metadata": {
    "deletable": false,
    "editable": false,
    "nbgrader": {
     "cell_type": "markdown",
     "checksum": "bac81353ad1a06a8d6f1c33d9d9f1adf",
     "grade": false,
     "grade_id": "cell-0daec8f1bd7e88d0",
     "locked": true,
     "schema_version": 3,
     "solution": false,
     "task": false
    }
   },
   "source": [
    "Write code in the cell below.\n",
    "\n",
    "* Create a variable called `num` and assign it the value of 60.\n",
    "* Use an if-else statement to complete the following steps.\n",
    "* If `num` is less than or equal to 50, print the statement `The number is less than or equal to 50`.\n",
    "* Otherwise, print the statement `The number is greater than 50`."
   ]
  },
  {
   "cell_type": "code",
   "execution_count": 11,
   "id": "affc1817",
   "metadata": {
    "deletable": false,
    "nbgrader": {
     "cell_type": "code",
     "checksum": "1d6836a762b4c7c64b653f1654983b3c",
     "grade": true,
     "grade_id": "cell-4857f4cb24293d44",
     "locked": false,
     "points": 1,
     "schema_version": 3,
     "solution": true,
     "task": false
    }
   },
   "outputs": [
    {
     "name": "stdout",
     "output_type": "stream",
     "text": [
      "The number is greater than 50\n"
     ]
    }
   ],
   "source": [
    "\n",
    "# YOUR CODE HERE\n",
    "num = 60\n",
    "if num <= 50:\n",
    "    print ('The number is less than or equal to 50')\n",
    "else:\n",
    "    print ('The number is greater than 50')"
   ]
  },
  {
   "cell_type": "markdown",
   "id": "5a21f1fe",
   "metadata": {
    "deletable": false,
    "editable": false,
    "nbgrader": {
     "cell_type": "markdown",
     "checksum": "72a3967b5f9ac5842ed4e64109360181",
     "grade": false,
     "grade_id": "cell-0e84b40ee22be682",
     "locked": true,
     "schema_version": 3,
     "solution": false,
     "task": false
    }
   },
   "source": [
    "Write code in the cell below.\n",
    "\n",
    "* Create a variable called `num` and assign it a value of 60.\n",
    "* Use a conditional expression to complete the following steps.\n",
    "* Create a variable called `output` and assign it the value `The number is less than or equal to 50` if `num` is less than or equal to 50. Otherwise assign `output` the value `The number is greater than 50`.\n",
    "* Print `output`."
   ]
  },
  {
   "cell_type": "code",
   "execution_count": 21,
   "id": "1d5b769d",
   "metadata": {
    "deletable": false,
    "nbgrader": {
     "cell_type": "code",
     "checksum": "c99272bbcbd416db3cffe5d37597a6a7",
     "grade": true,
     "grade_id": "cell-a4c983e1d0bdf913",
     "locked": false,
     "points": 1,
     "schema_version": 3,
     "solution": true,
     "task": false
    }
   },
   "outputs": [
    {
     "name": "stdout",
     "output_type": "stream",
     "text": [
      "The number is greater than 50\n"
     ]
    }
   ],
   "source": [
    "\n",
    "# YOUR CODE HERE\n",
    "num = 60\n",
    "\n",
    "output = \"The number is less than or equal to 50\" \\\n",
    "    if num <= 50 else \"The number is greater than 50\"\n",
    "\n",
    "print(output)"
   ]
  },
  {
   "cell_type": "markdown",
   "id": "723535fe",
   "metadata": {
    "deletable": false,
    "editable": false,
    "nbgrader": {
     "cell_type": "markdown",
     "checksum": "191d1fd957ffe3abea41c475e1493ce3",
     "grade": false,
     "grade_id": "cell-6048f7d616462416",
     "locked": true,
     "schema_version": 3,
     "solution": false,
     "task": false
    }
   },
   "source": [
    "Fix the code in the cell below.\n",
    "\n",
    "* Split the code assigning the value for the variable `long-lines` into multiple lines by adding a backslash character after each sentence."
   ]
  },
  {
   "cell_type": "code",
   "execution_count": 22,
   "id": "0d5d9cc5",
   "metadata": {
    "deletable": false,
    "nbgrader": {
     "cell_type": "code",
     "checksum": "a78ce48d2f1cff498aaff04621ffb5c8",
     "grade": true,
     "grade_id": "cell-77ea2edd1d50ac9d",
     "locked": false,
     "points": 1,
     "schema_version": 3,
     "solution": true,
     "task": false
    }
   },
   "outputs": [],
   "source": [
    "long_lines = 'This is a really long string.\\\n",
    "Lines of Python code are only supposed to be\\\n",
    "about 80 characters in length. You can use a \\\n",
    "backslash character at the end of a line of code\\\n",
    "to continue on the next line down. Split this string\\\n",
    "into multiple lines by adding a backslash after each sentence.'\n",
    "\n",
    "# YOUR CODE HERE"
   ]
  },
  {
   "cell_type": "markdown",
   "id": "ac98b15a",
   "metadata": {
    "deletable": false,
    "editable": false,
    "nbgrader": {
     "cell_type": "markdown",
     "checksum": "7537e61c4d53fd8219b2eb828b01a2a6",
     "grade": false,
     "grade_id": "cell-8843a614c6f88bfe",
     "locked": true,
     "schema_version": 3,
     "solution": false,
     "task": false
    }
   },
   "source": [
    "Write code in the cell below.\n",
    "\n",
    "* Create a variable called `light` and assign it the value `Red`.\n",
    "* Use an if-elif-else statement to check the status of a traffic signal and generate an appropriate response.\n",
    "* If `light` has the value of `Green` print `Go`.\n",
    "* If `light` has the value of `Yellow` print `Caution`.\n",
    "* If `light` has the value of `Red` print `Stop`.\n",
    "* If `light` has any other value print `Incorrect light signal`."
   ]
  },
  {
   "cell_type": "code",
   "execution_count": 26,
   "id": "0345fe4e",
   "metadata": {
    "deletable": false,
    "nbgrader": {
     "cell_type": "code",
     "checksum": "b11e80d2d9e04285d8fcdd65cb568383",
     "grade": true,
     "grade_id": "cell-c67e8e53a297cb46",
     "locked": false,
     "points": 1,
     "schema_version": 3,
     "solution": true,
     "task": false
    }
   },
   "outputs": [
    {
     "name": "stdout",
     "output_type": "stream",
     "text": [
      "Incorrect light signal\n"
     ]
    }
   ],
   "source": [
    "\n",
    "# YOUR CODE HERE\n",
    "light = \"red\"\n",
    "if light == \"Green\":\n",
    "    print(\"Go\")\n",
    "\n",
    "elif light == \"Yellow\":\n",
    "    print(\"Caution\")\n",
    "\n",
    "elif light == \"Red\":\n",
    "    print(\"Stop\")\n",
    "\n",
    "else:\n",
    "    print(\"Incorrect light signal\")\n",
    "\n"
   ]
  },
  {
   "cell_type": "markdown",
   "id": "edaaea33",
   "metadata": {
    "deletable": false,
    "editable": false,
    "nbgrader": {
     "cell_type": "markdown",
     "checksum": "99ee88308cfbe759033a1ad249c6360d",
     "grade": false,
     "grade_id": "cell-cb9ad49c072b0797",
     "locked": true,
     "schema_version": 3,
     "solution": false,
     "task": false
    }
   },
   "source": [
    "Write your answer in the cell below. What is the difference between multiple if statements and if-elif-else statement?"
   ]
  },
  {
   "cell_type": "markdown",
   "id": "0755f7ac",
   "metadata": {
    "deletable": false,
    "nbgrader": {
     "cell_type": "markdown",
     "checksum": "00e245aa18748224b8132f50ff856aa0",
     "grade": true,
     "grade_id": "cell-83a08bcaf6ca63c3",
     "locked": false,
     "points": 2,
     "schema_version": 3,
     "solution": true,
     "task": false
    }
   },
   "source": [
    "YOUR ANSWER HERE"
   ]
  }
 ],
 "metadata": {
  "kernelspec": {
   "display_name": "Python 3 (ipykernel)",
   "language": "python",
   "name": "python3"
  },
  "language_info": {
   "codemirror_mode": {
    "name": "ipython",
    "version": 3
   },
   "file_extension": ".py",
   "mimetype": "text/x-python",
   "name": "python",
   "nbconvert_exporter": "python",
   "pygments_lexer": "ipython3",
   "version": "3.9.12"
  }
 },
 "nbformat": 4,
 "nbformat_minor": 5
}
